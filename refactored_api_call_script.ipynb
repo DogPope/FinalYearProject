{
 "cells": [
  {
   "cell_type": "markdown",
   "metadata": {},
   "source": [
    "# Refactored API call script\n",
    "This document is going to detail how to accurately ascertain the summit of Carrauntoohil.\n",
    "[High Point Ireland](https://www.highpointireland.com/major-island-high-points.html) has the summit at the following coordinates: 51.9991, -9.74308\n",
    "[Irish Grid Reference Finder](https://irish.gridreferencefinder.com/) has the summit at the following: 51.999450, -9.7426932\n",
    "[OpenStreetMap](https://www.openstreetmap.org/#map=19/51.999345/-9.742129) This one was done by hand. 51.999345, -9.742129"
   ]
  },
  {
   "cell_type": "markdown",
   "metadata": {},
   "source": [
    "## Getting the Elevation for the Summit of Carrauntoohil\n",
    "Returning the elevation for that single point involves importing the requests library, the OS library(For accessing the Environment Variable that the API key is stored in.)"
   ]
  },
  {
   "cell_type": "code",
   "execution_count": null,
   "metadata": {},
   "outputs": [
    {
     "data": {
      "text/plain": [
       "{'results': [{'elevation': 1002.884704589844,\n",
       "   'location': {'lat': 51.9991, 'lng': -9.74308},\n",
       "   'resolution': 152.7032318115234}],\n",
       " 'status': 'OK'}"
      ]
     },
     "execution_count": 5,
     "metadata": {},
     "output_type": "execute_result"
    }
   ],
   "source": [
    "# This one will check accuracy from the High Point Ireland site. Most accurate so far.\n",
    "import requests\n",
    "import os\n",
    "\n",
    "# Note: The API Key has been stored as an Environment variable on this computer. Bring an API key if you plan on accessing outside the house.\n",
    "api_key = os.environ.get(\"GOOGLE_API_KEY\")\n",
    "\n",
    "# The summit here was sourced from High Point Ireland.\n",
    "res = requests.get('https://maps.googleapis.com/maps/api/elevation/json?locations=51.9991%2C-9.74308&key=' + str(api_key))\n",
    "res.json()"
   ]
  },
  {
   "cell_type": "code",
   "execution_count": null,
   "metadata": {},
   "outputs": [
    {
     "data": {
      "text/plain": [
       "{'results': [{'elevation': 994.3424682617188,\n",
       "   'location': {'lat': 51.99945, 'lng': -9.7426932},\n",
       "   'resolution': 152.7032318115234}],\n",
       " 'status': 'OK'}"
      ]
     },
     "execution_count": 4,
     "metadata": {},
     "output_type": "execute_result"
    }
   ],
   "source": [
    "# This one will check accuracy from the Irish Grid Reference Finder site. Less accurate than High Point Ireland.\n",
    "res = requests.get('https://maps.googleapis.com/maps/api/elevation/json?locations=51.999450%2C-9.7426932&key=' + str(api_key))\n",
    "res.json()"
   ]
  },
  {
   "cell_type": "code",
   "execution_count": null,
   "metadata": {},
   "outputs": [
    {
     "data": {
      "text/plain": [
       "{'results': [{'elevation': 986.4366455078125,\n",
       "   'location': {'lat': 51.999345, 'lng': -9.742129},\n",
       "   'resolution': 152.7032318115234}],\n",
       " 'status': 'OK'}"
      ]
     },
     "execution_count": 6,
     "metadata": {},
     "output_type": "execute_result"
    }
   ],
   "source": [
    "# This will check the accuracy of using OpenStreetMaps map. This was done by hand. Even less accurate than Irish Grid Reference Finder. DO NOT USE\n",
    "res = requests.get('https://maps.googleapis.com/maps/api/elevation/json?locations=51.999345%2C-9.742129&key=' + str(api_key))\n",
    "res.json()"
   ]
  },
  {
   "cell_type": "code",
   "execution_count": 8,
   "metadata": {},
   "outputs": [
    {
     "name": "stdout",
     "output_type": "stream",
     "text": [
      "3.13.0 (tags/v3.13.0:60403a5, Oct  7 2024, 09:38:07) [MSC v.1941 64 bit (AMD64)]\n"
     ]
    }
   ],
   "source": [
    "import sys\n",
    "print(sys.version)"
   ]
  },
  {
   "cell_type": "code",
   "execution_count": 2,
   "metadata": {},
   "outputs": [
    {
     "ename": "IndexError",
     "evalue": "list index out of range",
     "output_type": "error",
     "traceback": [
      "\u001b[1;31m---------------------------------------------------------------------------\u001b[0m",
      "\u001b[1;31mIndexError\u001b[0m                                Traceback (most recent call last)",
      "Cell \u001b[1;32mIn[2], line 34\u001b[0m\n\u001b[0;32m     32\u001b[0m \u001b[38;5;28;01mif\u001b[39;00m counter \u001b[38;5;241m%\u001b[39m \u001b[38;5;241m5900\u001b[39m \u001b[38;5;241m==\u001b[39m \u001b[38;5;241m0\u001b[39m:\n\u001b[0;32m     33\u001b[0m     time\u001b[38;5;241m.\u001b[39msleep(\u001b[38;5;241m60\u001b[39m)\n\u001b[1;32m---> 34\u001b[0m \u001b[43mreturn_elevation\u001b[49m\u001b[43m(\u001b[49m\u001b[43mmin_latitude\u001b[49m\u001b[43m \u001b[49m\u001b[38;5;241;43m+\u001b[39;49m\u001b[43m \u001b[49m\u001b[43mi\u001b[49m\u001b[43m \u001b[49m\u001b[38;5;241;43m*\u001b[39;49m\u001b[43m \u001b[49m\u001b[43mlat_diff\u001b[49m\u001b[43m,\u001b[49m\u001b[43m \u001b[49m\u001b[43mmin_longitude\u001b[49m\u001b[43m \u001b[49m\u001b[38;5;241;43m+\u001b[39;49m\u001b[43m \u001b[49m\u001b[43mj\u001b[49m\u001b[43m \u001b[49m\u001b[38;5;241;43m*\u001b[39;49m\u001b[43m \u001b[49m\u001b[43mlong_diff\u001b[49m\u001b[43m)\u001b[49m\n",
      "Cell \u001b[1;32mIn[2], line 23\u001b[0m, in \u001b[0;36mreturn_elevation\u001b[1;34m(lat, lng)\u001b[0m\n\u001b[0;32m     21\u001b[0m json_str \u001b[38;5;241m=\u001b[39m json\u001b[38;5;241m.\u001b[39mdumps(response_as_json)\n\u001b[0;32m     22\u001b[0m resp \u001b[38;5;241m=\u001b[39m json\u001b[38;5;241m.\u001b[39mloads(json_str)\n\u001b[1;32m---> 23\u001b[0m lat \u001b[38;5;241m=\u001b[39m \u001b[43mresp\u001b[49m\u001b[43m[\u001b[49m\u001b[38;5;124;43m'\u001b[39;49m\u001b[38;5;124;43mresults\u001b[39;49m\u001b[38;5;124;43m'\u001b[39;49m\u001b[43m]\u001b[49m\u001b[43m[\u001b[49m\u001b[38;5;241;43m0\u001b[39;49m\u001b[43m]\u001b[49m[\u001b[38;5;124m'\u001b[39m\u001b[38;5;124mlocation\u001b[39m\u001b[38;5;124m'\u001b[39m][\u001b[38;5;124m'\u001b[39m\u001b[38;5;124mlat\u001b[39m\u001b[38;5;124m'\u001b[39m]\n\u001b[0;32m     24\u001b[0m lng \u001b[38;5;241m=\u001b[39m resp[\u001b[38;5;124m'\u001b[39m\u001b[38;5;124mresults\u001b[39m\u001b[38;5;124m'\u001b[39m][\u001b[38;5;241m0\u001b[39m][\u001b[38;5;124m'\u001b[39m\u001b[38;5;124mlocation\u001b[39m\u001b[38;5;124m'\u001b[39m][\u001b[38;5;124m'\u001b[39m\u001b[38;5;124mlng\u001b[39m\u001b[38;5;124m'\u001b[39m]\n\u001b[0;32m     25\u001b[0m elev \u001b[38;5;241m=\u001b[39m resp[\u001b[38;5;124m'\u001b[39m\u001b[38;5;124mresults\u001b[39m\u001b[38;5;124m'\u001b[39m][\u001b[38;5;241m0\u001b[39m][\u001b[38;5;124m'\u001b[39m\u001b[38;5;124melevation\u001b[39m\u001b[38;5;124m'\u001b[39m]\n",
      "\u001b[1;31mIndexError\u001b[0m: list index out of range"
     ]
    }
   ],
   "source": [
    "import requests\n",
    "import time\n",
    "import json\n",
    "import os\n",
    "bounding_box=[[52.008033, -9.757847],[52.008033,-9.728633],[51.990047,-9.757847],[51.990047,-9.728633]] # Updated with new, more accurate values.\n",
    "\n",
    "max_latitude = bounding_box[0][0]\n",
    "min_latitude = bounding_box[2][0]\n",
    "lat_diff = max_latitude - min_latitude\n",
    "\n",
    "max_longitude = bounding_box[0][1]\n",
    "min_longitude = bounding_box[1][1]\n",
    "long_diff = max_longitude - min_longitude\n",
    "\n",
    "steps = 2\n",
    "api_key = os.environ.get(\"GOOGLE_API_KEY\")\n",
    "def return_elevation(lat, lng):\n",
    "    url = \"https://maps.googleapis.com/maps/api/elevation/json?locations=\" + str(lat) + \"%2C\" + str(lng) + \"&key=\" + str(\"api_key\")\n",
    "    response = requests.get(url)\n",
    "    response_as_json = response.json()\n",
    "    json_str = json.dumps(response_as_json)\n",
    "    resp = json.loads(json_str)\n",
    "    lat = resp['results'][0]['location']['lat']\n",
    "    lng = resp['results'][0]['location']['lng']\n",
    "    elev = resp['results'][0]['elevation']\n",
    "    print(lat, lng, elev)\n",
    "\n",
    "counter = 0\n",
    "for i in range(0,steps + 1):\n",
    "    for j in range (0,steps + 1):\n",
    "        counter += 1\n",
    "        if counter % 5900 == 0:\n",
    "            time.sleep(60)\n",
    "        return_elevation(min_latitude + i * lat_diff, min_longitude + j * long_diff)"
   ]
  }
 ],
 "metadata": {
  "kernelspec": {
   "display_name": "Python 3",
   "language": "python",
   "name": "python3"
  },
  "language_info": {
   "codemirror_mode": {
    "name": "ipython",
    "version": 3
   },
   "file_extension": ".py",
   "mimetype": "text/x-python",
   "name": "python",
   "nbconvert_exporter": "python",
   "pygments_lexer": "ipython3",
   "version": "3.13.0"
  }
 },
 "nbformat": 4,
 "nbformat_minor": 2
}
