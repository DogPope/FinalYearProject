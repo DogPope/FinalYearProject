{
 "cells": [
  {
   "cell_type": "code",
   "execution_count": 1,
   "metadata": {},
   "outputs": [
    {
     "name": "stdout",
     "output_type": "stream",
     "text": [
      "[[52.00844, -9.7573], [52.00844, -9.728086], [51.99045, -9.7573], [51.99045, -9.728086]]\n"
     ]
    },
    {
     "ename": "IndexError",
     "evalue": "list index out of range",
     "output_type": "error",
     "traceback": [
      "\u001b[1;31m---------------------------------------------------------------------------\u001b[0m",
      "\u001b[1;31mIndexError\u001b[0m                                Traceback (most recent call last)",
      "Cell \u001b[1;32mIn[1], line 40\u001b[0m\n\u001b[0;32m     38\u001b[0m \u001b[38;5;28;01mfor\u001b[39;00m i \u001b[38;5;129;01min\u001b[39;00m \u001b[38;5;28mrange\u001b[39m(\u001b[38;5;241m0\u001b[39m,steps \u001b[38;5;241m+\u001b[39m \u001b[38;5;241m1\u001b[39m):\n\u001b[0;32m     39\u001b[0m     \u001b[38;5;28;01mfor\u001b[39;00m j \u001b[38;5;129;01min\u001b[39;00m \u001b[38;5;28mrange\u001b[39m (\u001b[38;5;241m0\u001b[39m,steps \u001b[38;5;241m+\u001b[39m \u001b[38;5;241m1\u001b[39m):\n\u001b[1;32m---> 40\u001b[0m         \u001b[43mreturn_elevation\u001b[49m\u001b[43m(\u001b[49m\u001b[43mmin_latitude\u001b[49m\u001b[43m \u001b[49m\u001b[38;5;241;43m+\u001b[39;49m\u001b[43m \u001b[49m\u001b[43mi\u001b[49m\u001b[43m \u001b[49m\u001b[38;5;241;43m*\u001b[39;49m\u001b[43m \u001b[49m\u001b[43mlat_diff\u001b[49m\u001b[43m,\u001b[49m\u001b[43m \u001b[49m\u001b[43mmin_longitude\u001b[49m\u001b[43m \u001b[49m\u001b[38;5;241;43m+\u001b[39;49m\u001b[43m \u001b[49m\u001b[43mj\u001b[49m\u001b[43m \u001b[49m\u001b[38;5;241;43m*\u001b[39;49m\u001b[43m \u001b[49m\u001b[43mlong_diff\u001b[49m\u001b[43m)\u001b[49m\n",
      "Cell \u001b[1;32mIn[1], line 33\u001b[0m, in \u001b[0;36mreturn_elevation\u001b[1;34m(lat, lng)\u001b[0m\n\u001b[0;32m     31\u001b[0m json_str \u001b[38;5;241m=\u001b[39m json\u001b[38;5;241m.\u001b[39mdumps(response_as_json)\n\u001b[0;32m     32\u001b[0m resp \u001b[38;5;241m=\u001b[39m json\u001b[38;5;241m.\u001b[39mloads(json_str)\n\u001b[1;32m---> 33\u001b[0m lat \u001b[38;5;241m=\u001b[39m \u001b[43mresp\u001b[49m\u001b[43m[\u001b[49m\u001b[38;5;124;43m'\u001b[39;49m\u001b[38;5;124;43mresults\u001b[39;49m\u001b[38;5;124;43m'\u001b[39;49m\u001b[43m]\u001b[49m\u001b[43m[\u001b[49m\u001b[38;5;241;43m0\u001b[39;49m\u001b[43m]\u001b[49m[\u001b[38;5;124m'\u001b[39m\u001b[38;5;124mlocation\u001b[39m\u001b[38;5;124m'\u001b[39m][\u001b[38;5;124m'\u001b[39m\u001b[38;5;124mlat\u001b[39m\u001b[38;5;124m'\u001b[39m]\n\u001b[0;32m     34\u001b[0m lng \u001b[38;5;241m=\u001b[39m resp[\u001b[38;5;124m'\u001b[39m\u001b[38;5;124mresults\u001b[39m\u001b[38;5;124m'\u001b[39m][\u001b[38;5;241m0\u001b[39m][\u001b[38;5;124m'\u001b[39m\u001b[38;5;124mlocation\u001b[39m\u001b[38;5;124m'\u001b[39m][\u001b[38;5;124m'\u001b[39m\u001b[38;5;124mlng\u001b[39m\u001b[38;5;124m'\u001b[39m]\n\u001b[0;32m     35\u001b[0m elev \u001b[38;5;241m=\u001b[39m resp[\u001b[38;5;124m'\u001b[39m\u001b[38;5;124mresults\u001b[39m\u001b[38;5;124m'\u001b[39m][\u001b[38;5;241m0\u001b[39m][\u001b[38;5;124m'\u001b[39m\u001b[38;5;124melevation\u001b[39m\u001b[38;5;124m'\u001b[39m]\n",
      "\u001b[1;31mIndexError\u001b[0m: list index out of range"
     ]
    }
   ],
   "source": [
    "import math\n",
    "import json\n",
    "import requests\n",
    "\n",
    "# Pulling the plug on the rest of this. No suitable way of getting elevation found. Google API too expensive.\n",
    "bounding_box=[[52.00844, -9.7573],[52.00844,-9.728086],[51.99045,-9.7573],[51.99045,-9.728086]]\n",
    "print(bounding_box)\n",
    "\n",
    "max_latitude = bounding_box[0][0]\n",
    "min_latitude = bounding_box[2][0]\n",
    "latitude_difference = max_latitude - min_latitude\n",
    "\n",
    "max_longitude = bounding_box[0][1]\n",
    "min_longitude = bounding_box[1][1]\n",
    "longitude_difference = max_longitude - min_longitude\n",
    "\n",
    "steps = 20\n",
    "\n",
    "# Variables to store the difference in Latitude and Longitude in max and minumum value, etc.\n",
    "lat_diff = (max_latitude - min_latitude) / steps\n",
    "long_diff = (max_longitude - min_longitude) / steps\n",
    "\n",
    "steps = 20\n",
    "\n",
    "\n",
    "\n",
    "def return_elevation(lat, lng):\n",
    "    url = \"https://maps.googleapis.com/maps/api/elevation/json?locations=\" + str(lat) + \"%2C\" + str(lng) + \"&key=api_key\"\n",
    "    response = requests.get(url)\n",
    "    response_as_json = response.json()\n",
    "    json_str = json.dumps(response_as_json)\n",
    "    resp = json.loads(json_str)\n",
    "    lat = resp['results'][0]['location']['lat']\n",
    "    lng = resp['results'][0]['location']['lng']\n",
    "    elev = resp['results'][0]['elevation']\n",
    "    print(lat, lng, elev)\n",
    "\n",
    "for i in range(0,steps + 1):\n",
    "    for j in range (0,steps + 1):\n",
    "        return_elevation(min_latitude + i * lat_diff, min_longitude + j * long_diff)"
   ]
  },
  {
   "cell_type": "code",
   "execution_count": 2,
   "metadata": {},
   "outputs": [
    {
     "name": "stdout",
     "output_type": "stream",
     "text": [
      "3.248448587444545\n"
     ]
    }
   ],
   "source": [
    "def distance(long1, latt1, long2,latt2):\n",
    "  lon1 = math.radians(long1)\n",
    "  lon2 = math.radians(long2)\n",
    "  lat1 = math.radians(latt1)\n",
    "  lat2 = math.radians(latt2)\n",
    "  return math.acos(math.sin(lat1)*math.sin(lat2)+math.cos(lat1)*math.cos(lat2)*math.cos(lon2-lon1))*6371\n",
    "#Returns Number in the form of Kilometers.\n",
    "math.radians(90)\n",
    "print(distance(52.00844, -9.7573, 52.00844,-9.728086))"
   ]
  }
 ],
 "metadata": {
  "kernelspec": {
   "display_name": "Python 3",
   "language": "python",
   "name": "python3"
  },
  "language_info": {
   "codemirror_mode": {
    "name": "ipython",
    "version": 3
   },
   "file_extension": ".py",
   "mimetype": "text/x-python",
   "name": "python",
   "nbconvert_exporter": "python",
   "pygments_lexer": "ipython3",
   "version": "3.13.0"
  }
 },
 "nbformat": 4,
 "nbformat_minor": 2
}
